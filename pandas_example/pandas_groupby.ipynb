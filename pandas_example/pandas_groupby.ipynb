{
    "cells": [
        {
            "cell_type": "code",
            "execution_count": 5,
            "source": [
                "import pandas as pd\n",
                "import numpy as np"
            ],
            "outputs": [],
            "metadata": {}
        },
        {
            "cell_type": "markdown",
            "source": [
                "https://pandas.pydata.org/docs/user_guide/groupby.html\n",
                "\n",
                "### Splitting: the data into groups based on some criteria.\n",
                "### Applying: a function to each group independently.\n",
                "### Combining: the results into a data structure.\n",
                "\n",
                "\n",
                "### Aggregation: compute a summary statistic (or statistics) for each group. Some examples:\n",
                "    - Compute group sums or means.\n",
                "    - Compute group sizes / counts.\n",
                "\n",
                "### Transformation: perform some group-specific computations and return a like-indexed object. Some examples:\n",
                "    - Standardize data (zscore) within a group.\n",
                "    - Filling NAs within groups with a value derived from each group.\n",
                "\n",
                "### Filtration: discard some groups, according to a group-wise computation that evaluates True or False. Some examples:\n",
                "    - Discard data that belongs to groups with only a few members.\n",
                "    - Filter out data based on the group sum or mean.\n",
                "\n",
                "### Some combination of the above: GroupBy will examine the results of the apply step and try to return a sensibly combined result if it doesn’t fit into either of the above two categories.\n",
                "\n",
                "\n"
            ],
            "metadata": {}
        },
        {
            "cell_type": "code",
            "execution_count": 6,
            "source": [
                " df = pd.DataFrame(\n",
                "    [\n",
                "         (\"bird\", \"Falconiformes\", 389.0),\n",
                "         (\"bird\", \"Psittaciformes\", 24.0),\n",
                "         (\"mammal\", \"Carnivora\", 80.2),\n",
                "         (\"mammal\", \"Primates\", np.nan),\n",
                "         (\"mammal\", \"Carnivora\", 58),\n",
                "    ],\n",
                "    index=[\"falcon\", \"parrot\", \"lion\", \"monkey\", \"leopard\"], \n",
                "    columns=(\"class\", \"order\", \"max_speed\"), \n",
                ")\n",
                "df"
            ],
            "outputs": [
                {
                    "output_type": "execute_result",
                    "data": {
                        "text/plain": [
                            "          class           order  max_speed\n",
                            "falcon     bird   Falconiformes      389.0\n",
                            "parrot     bird  Psittaciformes       24.0\n",
                            "lion     mammal       Carnivora       80.2\n",
                            "monkey   mammal        Primates        NaN\n",
                            "leopard  mammal       Carnivora       58.0"
                        ],
                        "text/html": [
                            "<div>\n",
                            "<style scoped>\n",
                            "    .dataframe tbody tr th:only-of-type {\n",
                            "        vertical-align: middle;\n",
                            "    }\n",
                            "\n",
                            "    .dataframe tbody tr th {\n",
                            "        vertical-align: top;\n",
                            "    }\n",
                            "\n",
                            "    .dataframe thead th {\n",
                            "        text-align: right;\n",
                            "    }\n",
                            "</style>\n",
                            "<table border=\"1\" class=\"dataframe\">\n",
                            "  <thead>\n",
                            "    <tr style=\"text-align: right;\">\n",
                            "      <th></th>\n",
                            "      <th>class</th>\n",
                            "      <th>order</th>\n",
                            "      <th>max_speed</th>\n",
                            "    </tr>\n",
                            "  </thead>\n",
                            "  <tbody>\n",
                            "    <tr>\n",
                            "      <th>falcon</th>\n",
                            "      <td>bird</td>\n",
                            "      <td>Falconiformes</td>\n",
                            "      <td>389.0</td>\n",
                            "    </tr>\n",
                            "    <tr>\n",
                            "      <th>parrot</th>\n",
                            "      <td>bird</td>\n",
                            "      <td>Psittaciformes</td>\n",
                            "      <td>24.0</td>\n",
                            "    </tr>\n",
                            "    <tr>\n",
                            "      <th>lion</th>\n",
                            "      <td>mammal</td>\n",
                            "      <td>Carnivora</td>\n",
                            "      <td>80.2</td>\n",
                            "    </tr>\n",
                            "    <tr>\n",
                            "      <th>monkey</th>\n",
                            "      <td>mammal</td>\n",
                            "      <td>Primates</td>\n",
                            "      <td>NaN</td>\n",
                            "    </tr>\n",
                            "    <tr>\n",
                            "      <th>leopard</th>\n",
                            "      <td>mammal</td>\n",
                            "      <td>Carnivora</td>\n",
                            "      <td>58.0</td>\n",
                            "    </tr>\n",
                            "  </tbody>\n",
                            "</table>\n",
                            "</div>"
                        ]
                    },
                    "metadata": {},
                    "execution_count": 6
                }
            ],
            "metadata": {}
        },
        {
            "cell_type": "code",
            "execution_count": 4,
            "source": [
                "grouped = df.groupby(\"class\")\n",
                "print (grouped)\n",
                "\n",
                "grouped = df.groupby(\"order\", axis=\"columns\")\n",
                "print (grouped)\n",
                "\n",
                "grouped = df.groupby([\"class\", \"order\"])\n",
                "print (grouped)"
            ],
            "outputs": [
                {
                    "output_type": "stream",
                    "name": "stdout",
                    "text": [
                        "<pandas.core.groupby.generic.DataFrameGroupBy object at 0x11e649460>\n",
                        "<pandas.core.groupby.generic.DataFrameGroupBy object at 0x11e6499a0>\n",
                        "<pandas.core.groupby.generic.DataFrameGroupBy object at 0x11e649460>\n"
                    ]
                }
            ],
            "metadata": {}
        },
        {
            "cell_type": "code",
            "execution_count": 7,
            "source": [
                "df = pd.DataFrame(\n",
                "        {\n",
                "            \"A\": [\"foo\", \"bar\", \"foo\", \"bar\", \"foo\", \"bar\", \"foo\", \"foo\"],\n",
                "            \"B\": [\"one\", \"one\", \"two\", \"three\", \"two\", \"two\", \"one\", \"three\"],\n",
                "            \"C\": np.random.randn(8),\n",
                "            \"D\": np.random.randn(8),\n",
                "        }\n",
                "    )"
            ],
            "outputs": [],
            "metadata": {}
        },
        {
            "cell_type": "code",
            "execution_count": 8,
            "source": [
                "grouped = df.groupby([\"A\"])\n",
                "for name, group in grouped:\n",
                "   print(name)\n",
                "   print(group)\n",
                "   print ('')\n",
                "\n",
                "df.groupby([\"A\"]).sum()"
            ],
            "outputs": [
                {
                    "output_type": "stream",
                    "name": "stdout",
                    "text": [
                        "bar\n",
                        "     A      B         C         D\n",
                        "1  bar    one  1.441084 -1.429318\n",
                        "3  bar  three  0.504004 -0.074721\n",
                        "5  bar    two  1.295684  0.877602\n",
                        "\n",
                        "foo\n",
                        "     A      B         C         D\n",
                        "0  foo    one -0.418179 -1.070514\n",
                        "2  foo    two -1.329937 -1.080185\n",
                        "4  foo    two  0.193194 -1.790206\n",
                        "6  foo    one -1.173756  0.276146\n",
                        "7  foo  three  0.485690  0.946268\n",
                        "\n"
                    ]
                },
                {
                    "output_type": "execute_result",
                    "data": {
                        "text/plain": [
                            "            C         D\n",
                            "A                      \n",
                            "bar  3.240772 -0.626437\n",
                            "foo -2.242987 -2.718491"
                        ],
                        "text/html": [
                            "<div>\n",
                            "<style scoped>\n",
                            "    .dataframe tbody tr th:only-of-type {\n",
                            "        vertical-align: middle;\n",
                            "    }\n",
                            "\n",
                            "    .dataframe tbody tr th {\n",
                            "        vertical-align: top;\n",
                            "    }\n",
                            "\n",
                            "    .dataframe thead th {\n",
                            "        text-align: right;\n",
                            "    }\n",
                            "</style>\n",
                            "<table border=\"1\" class=\"dataframe\">\n",
                            "  <thead>\n",
                            "    <tr style=\"text-align: right;\">\n",
                            "      <th></th>\n",
                            "      <th>C</th>\n",
                            "      <th>D</th>\n",
                            "    </tr>\n",
                            "    <tr>\n",
                            "      <th>A</th>\n",
                            "      <th></th>\n",
                            "      <th></th>\n",
                            "    </tr>\n",
                            "  </thead>\n",
                            "  <tbody>\n",
                            "    <tr>\n",
                            "      <th>bar</th>\n",
                            "      <td>3.240772</td>\n",
                            "      <td>-0.626437</td>\n",
                            "    </tr>\n",
                            "    <tr>\n",
                            "      <th>foo</th>\n",
                            "      <td>-2.242987</td>\n",
                            "      <td>-2.718491</td>\n",
                            "    </tr>\n",
                            "  </tbody>\n",
                            "</table>\n",
                            "</div>"
                        ]
                    },
                    "metadata": {},
                    "execution_count": 8
                }
            ],
            "metadata": {}
        },
        {
            "cell_type": "code",
            "execution_count": 9,
            "source": [
                "df.groupby([\"A\", \"B\"]).sum()"
            ],
            "outputs": [
                {
                    "output_type": "execute_result",
                    "data": {
                        "text/plain": [
                            "                  C         D\n",
                            "A   B                        \n",
                            "bar one    1.441084 -1.429318\n",
                            "    three  0.504004 -0.074721\n",
                            "    two    1.295684  0.877602\n",
                            "foo one   -1.591935 -0.794369\n",
                            "    three  0.485690  0.946268\n",
                            "    two   -1.136743 -2.870391"
                        ],
                        "text/html": [
                            "<div>\n",
                            "<style scoped>\n",
                            "    .dataframe tbody tr th:only-of-type {\n",
                            "        vertical-align: middle;\n",
                            "    }\n",
                            "\n",
                            "    .dataframe tbody tr th {\n",
                            "        vertical-align: top;\n",
                            "    }\n",
                            "\n",
                            "    .dataframe thead th {\n",
                            "        text-align: right;\n",
                            "    }\n",
                            "</style>\n",
                            "<table border=\"1\" class=\"dataframe\">\n",
                            "  <thead>\n",
                            "    <tr style=\"text-align: right;\">\n",
                            "      <th></th>\n",
                            "      <th></th>\n",
                            "      <th>C</th>\n",
                            "      <th>D</th>\n",
                            "    </tr>\n",
                            "    <tr>\n",
                            "      <th>A</th>\n",
                            "      <th>B</th>\n",
                            "      <th></th>\n",
                            "      <th></th>\n",
                            "    </tr>\n",
                            "  </thead>\n",
                            "  <tbody>\n",
                            "    <tr>\n",
                            "      <th rowspan=\"3\" valign=\"top\">bar</th>\n",
                            "      <th>one</th>\n",
                            "      <td>1.441084</td>\n",
                            "      <td>-1.429318</td>\n",
                            "    </tr>\n",
                            "    <tr>\n",
                            "      <th>three</th>\n",
                            "      <td>0.504004</td>\n",
                            "      <td>-0.074721</td>\n",
                            "    </tr>\n",
                            "    <tr>\n",
                            "      <th>two</th>\n",
                            "      <td>1.295684</td>\n",
                            "      <td>0.877602</td>\n",
                            "    </tr>\n",
                            "    <tr>\n",
                            "      <th rowspan=\"3\" valign=\"top\">foo</th>\n",
                            "      <th>one</th>\n",
                            "      <td>-1.591935</td>\n",
                            "      <td>-0.794369</td>\n",
                            "    </tr>\n",
                            "    <tr>\n",
                            "      <th>three</th>\n",
                            "      <td>0.485690</td>\n",
                            "      <td>0.946268</td>\n",
                            "    </tr>\n",
                            "    <tr>\n",
                            "      <th>two</th>\n",
                            "      <td>-1.136743</td>\n",
                            "      <td>-2.870391</td>\n",
                            "    </tr>\n",
                            "  </tbody>\n",
                            "</table>\n",
                            "</div>"
                        ]
                    },
                    "metadata": {},
                    "execution_count": 9
                }
            ],
            "metadata": {}
        },
        {
            "cell_type": "code",
            "execution_count": 59,
            "source": [
                "grouped.size()"
            ],
            "outputs": [
                {
                    "output_type": "execute_result",
                    "data": {
                        "text/plain": [
                            "A\n",
                            "bar    3\n",
                            "foo    5\n",
                            "dtype: int64"
                        ]
                    },
                    "metadata": {},
                    "execution_count": 59
                }
            ],
            "metadata": {}
        },
        {
            "cell_type": "code",
            "execution_count": 60,
            "source": [
                "grouped.describe()"
            ],
            "outputs": [
                {
                    "output_type": "execute_result",
                    "data": {
                        "text/plain": [
                            "        C                                                              \\\n",
                            "    count      mean       std       min       25%       50%       75%   \n",
                            "A                                                                       \n",
                            "bar   3.0  0.223429  0.155849  0.050088  0.159156  0.268224  0.310100   \n",
                            "foo   5.0 -0.091039  0.805698 -1.000637 -0.552773 -0.096180  0.045533   \n",
                            "\n",
                            "                  D                                                    \\\n",
                            "          max count      mean       std       min       25%       50%   \n",
                            "A                                                                       \n",
                            "bar  0.351976   3.0 -0.553889  0.425876 -1.004151 -0.752067 -0.499983   \n",
                            "foo  1.148861   5.0 -0.271918  0.852381 -1.181916 -0.906459 -0.298524   \n",
                            "\n",
                            "                         \n",
                            "          75%       max  \n",
                            "A                        \n",
                            "bar -0.328758 -0.157533  \n",
                            "foo  0.044332  0.982975  "
                        ],
                        "text/html": [
                            "<div>\n",
                            "<style scoped>\n",
                            "    .dataframe tbody tr th:only-of-type {\n",
                            "        vertical-align: middle;\n",
                            "    }\n",
                            "\n",
                            "    .dataframe tbody tr th {\n",
                            "        vertical-align: top;\n",
                            "    }\n",
                            "\n",
                            "    .dataframe thead tr th {\n",
                            "        text-align: left;\n",
                            "    }\n",
                            "\n",
                            "    .dataframe thead tr:last-of-type th {\n",
                            "        text-align: right;\n",
                            "    }\n",
                            "</style>\n",
                            "<table border=\"1\" class=\"dataframe\">\n",
                            "  <thead>\n",
                            "    <tr>\n",
                            "      <th></th>\n",
                            "      <th colspan=\"8\" halign=\"left\">C</th>\n",
                            "      <th colspan=\"8\" halign=\"left\">D</th>\n",
                            "    </tr>\n",
                            "    <tr>\n",
                            "      <th></th>\n",
                            "      <th>count</th>\n",
                            "      <th>mean</th>\n",
                            "      <th>std</th>\n",
                            "      <th>min</th>\n",
                            "      <th>25%</th>\n",
                            "      <th>50%</th>\n",
                            "      <th>75%</th>\n",
                            "      <th>max</th>\n",
                            "      <th>count</th>\n",
                            "      <th>mean</th>\n",
                            "      <th>std</th>\n",
                            "      <th>min</th>\n",
                            "      <th>25%</th>\n",
                            "      <th>50%</th>\n",
                            "      <th>75%</th>\n",
                            "      <th>max</th>\n",
                            "    </tr>\n",
                            "    <tr>\n",
                            "      <th>A</th>\n",
                            "      <th></th>\n",
                            "      <th></th>\n",
                            "      <th></th>\n",
                            "      <th></th>\n",
                            "      <th></th>\n",
                            "      <th></th>\n",
                            "      <th></th>\n",
                            "      <th></th>\n",
                            "      <th></th>\n",
                            "      <th></th>\n",
                            "      <th></th>\n",
                            "      <th></th>\n",
                            "      <th></th>\n",
                            "      <th></th>\n",
                            "      <th></th>\n",
                            "      <th></th>\n",
                            "    </tr>\n",
                            "  </thead>\n",
                            "  <tbody>\n",
                            "    <tr>\n",
                            "      <th>bar</th>\n",
                            "      <td>3.0</td>\n",
                            "      <td>0.223429</td>\n",
                            "      <td>0.155849</td>\n",
                            "      <td>0.050088</td>\n",
                            "      <td>0.159156</td>\n",
                            "      <td>0.268224</td>\n",
                            "      <td>0.310100</td>\n",
                            "      <td>0.351976</td>\n",
                            "      <td>3.0</td>\n",
                            "      <td>-0.553889</td>\n",
                            "      <td>0.425876</td>\n",
                            "      <td>-1.004151</td>\n",
                            "      <td>-0.752067</td>\n",
                            "      <td>-0.499983</td>\n",
                            "      <td>-0.328758</td>\n",
                            "      <td>-0.157533</td>\n",
                            "    </tr>\n",
                            "    <tr>\n",
                            "      <th>foo</th>\n",
                            "      <td>5.0</td>\n",
                            "      <td>-0.091039</td>\n",
                            "      <td>0.805698</td>\n",
                            "      <td>-1.000637</td>\n",
                            "      <td>-0.552773</td>\n",
                            "      <td>-0.096180</td>\n",
                            "      <td>0.045533</td>\n",
                            "      <td>1.148861</td>\n",
                            "      <td>5.0</td>\n",
                            "      <td>-0.271918</td>\n",
                            "      <td>0.852381</td>\n",
                            "      <td>-1.181916</td>\n",
                            "      <td>-0.906459</td>\n",
                            "      <td>-0.298524</td>\n",
                            "      <td>0.044332</td>\n",
                            "      <td>0.982975</td>\n",
                            "    </tr>\n",
                            "  </tbody>\n",
                            "</table>\n",
                            "</div>"
                        ]
                    },
                    "metadata": {},
                    "execution_count": 60
                }
            ],
            "metadata": {}
        },
        {
            "cell_type": "code",
            "execution_count": 61,
            "source": [
                "df.groupby([\"A\", \"B\"], as_index=False).sum()"
            ],
            "outputs": [
                {
                    "output_type": "execute_result",
                    "data": {
                        "text/plain": [
                            "     A      B         C         D\n",
                            "0  bar    one  0.268224 -0.157533\n",
                            "1  bar  three  0.351976 -0.499983\n",
                            "2  bar    two  0.050088 -1.004151\n",
                            "3  foo    one  0.148224 -2.088375\n",
                            "4  foo  three  0.045533  0.044332\n",
                            "5  foo    two -0.648952  0.684451"
                        ],
                        "text/html": [
                            "<div>\n",
                            "<style scoped>\n",
                            "    .dataframe tbody tr th:only-of-type {\n",
                            "        vertical-align: middle;\n",
                            "    }\n",
                            "\n",
                            "    .dataframe tbody tr th {\n",
                            "        vertical-align: top;\n",
                            "    }\n",
                            "\n",
                            "    .dataframe thead th {\n",
                            "        text-align: right;\n",
                            "    }\n",
                            "</style>\n",
                            "<table border=\"1\" class=\"dataframe\">\n",
                            "  <thead>\n",
                            "    <tr style=\"text-align: right;\">\n",
                            "      <th></th>\n",
                            "      <th>A</th>\n",
                            "      <th>B</th>\n",
                            "      <th>C</th>\n",
                            "      <th>D</th>\n",
                            "    </tr>\n",
                            "  </thead>\n",
                            "  <tbody>\n",
                            "    <tr>\n",
                            "      <th>0</th>\n",
                            "      <td>bar</td>\n",
                            "      <td>one</td>\n",
                            "      <td>0.268224</td>\n",
                            "      <td>-0.157533</td>\n",
                            "    </tr>\n",
                            "    <tr>\n",
                            "      <th>1</th>\n",
                            "      <td>bar</td>\n",
                            "      <td>three</td>\n",
                            "      <td>0.351976</td>\n",
                            "      <td>-0.499983</td>\n",
                            "    </tr>\n",
                            "    <tr>\n",
                            "      <th>2</th>\n",
                            "      <td>bar</td>\n",
                            "      <td>two</td>\n",
                            "      <td>0.050088</td>\n",
                            "      <td>-1.004151</td>\n",
                            "    </tr>\n",
                            "    <tr>\n",
                            "      <th>3</th>\n",
                            "      <td>foo</td>\n",
                            "      <td>one</td>\n",
                            "      <td>0.148224</td>\n",
                            "      <td>-2.088375</td>\n",
                            "    </tr>\n",
                            "    <tr>\n",
                            "      <th>4</th>\n",
                            "      <td>foo</td>\n",
                            "      <td>three</td>\n",
                            "      <td>0.045533</td>\n",
                            "      <td>0.044332</td>\n",
                            "    </tr>\n",
                            "    <tr>\n",
                            "      <th>5</th>\n",
                            "      <td>foo</td>\n",
                            "      <td>two</td>\n",
                            "      <td>-0.648952</td>\n",
                            "      <td>0.684451</td>\n",
                            "    </tr>\n",
                            "  </tbody>\n",
                            "</table>\n",
                            "</div>"
                        ]
                    },
                    "metadata": {},
                    "execution_count": 61
                }
            ],
            "metadata": {}
        },
        {
            "cell_type": "markdown",
            "source": [
                "Function\n",
                "\n",
                "Description\n",
                "\n",
                "mean() Compute mean of groups\n",
                "sum() Compute sum of group values\n",
                "size() Compute group sizes\n"
            ],
            "metadata": {}
        },
        {
            "cell_type": "markdown",
            "source": [
                "count() Compute count of group\n",
                "std() Standard deviation of groups\n",
                "var() Compute variance of groups\n"
            ],
            "metadata": {}
        },
        {
            "cell_type": "markdown",
            "source": [],
            "metadata": {}
        },
        {
            "cell_type": "markdown",
            "source": [
                "sem() Standard error of the mean of groups\n",
                "describe() Generates descriptive statistics\n",
                "first() Compute first of group values\n",
                "last() Compute last of group values\n",
                "nth() Take nth value, or a subset if n is a list\n",
                "min() Compute min of group values\n",
                "max() Compute max of group values\n"
            ],
            "metadata": {}
        },
        {
            "cell_type": "code",
            "execution_count": 2,
            "source": [
                "grouped = df.groupby(\"A\")\n",
                "grouped[\"C\"].agg([np.sum, np.mean, np.std])"
            ],
            "outputs": [
                {
                    "output_type": "error",
                    "ename": "NameError",
                    "evalue": "name 'df' is not defined",
                    "traceback": [
                        "\u001b[0;31m---------------------------------------------------------------------------\u001b[0m",
                        "\u001b[0;31mNameError\u001b[0m                                 Traceback (most recent call last)",
                        "\u001b[0;32m/var/folders/kz/m14z0wwn08dgm4gm97w7_k140000gp/T/ipykernel_1156/2247197883.py\u001b[0m in \u001b[0;36m<module>\u001b[0;34m\u001b[0m\n\u001b[0;32m----> 1\u001b[0;31m \u001b[0mgrouped\u001b[0m \u001b[0;34m=\u001b[0m \u001b[0mdf\u001b[0m\u001b[0;34m.\u001b[0m\u001b[0mgroupby\u001b[0m\u001b[0;34m(\u001b[0m\u001b[0;34m\"A\"\u001b[0m\u001b[0;34m)\u001b[0m\u001b[0;34m\u001b[0m\u001b[0;34m\u001b[0m\u001b[0m\n\u001b[0m\u001b[1;32m      2\u001b[0m \u001b[0mgrouped\u001b[0m\u001b[0;34m[\u001b[0m\u001b[0;34m\"C\"\u001b[0m\u001b[0;34m]\u001b[0m\u001b[0;34m.\u001b[0m\u001b[0magg\u001b[0m\u001b[0;34m(\u001b[0m\u001b[0;34m[\u001b[0m\u001b[0mnp\u001b[0m\u001b[0;34m.\u001b[0m\u001b[0msum\u001b[0m\u001b[0;34m,\u001b[0m \u001b[0mnp\u001b[0m\u001b[0;34m.\u001b[0m\u001b[0mmean\u001b[0m\u001b[0;34m,\u001b[0m \u001b[0mnp\u001b[0m\u001b[0;34m.\u001b[0m\u001b[0mstd\u001b[0m\u001b[0;34m]\u001b[0m\u001b[0;34m)\u001b[0m\u001b[0;34m\u001b[0m\u001b[0;34m\u001b[0m\u001b[0m\n",
                        "\u001b[0;31mNameError\u001b[0m: name 'df' is not defined"
                    ]
                }
            ],
            "metadata": {}
        },
        {
            "cell_type": "code",
            "execution_count": 10,
            "source": [
                "grouped.agg([np.sum, np.mean, np.std])"
            ],
            "outputs": [
                {
                    "output_type": "execute_result",
                    "data": {
                        "text/plain": [
                            "            C                             D                    \n",
                            "          sum      mean       std       sum      mean       std\n",
                            "A                                                              \n",
                            "bar  3.240772  1.080257  0.504318 -0.626437 -0.208812  1.159291\n",
                            "foo -2.242987 -0.448597  0.804414 -2.718491 -0.543698  1.119294"
                        ],
                        "text/html": [
                            "<div>\n",
                            "<style scoped>\n",
                            "    .dataframe tbody tr th:only-of-type {\n",
                            "        vertical-align: middle;\n",
                            "    }\n",
                            "\n",
                            "    .dataframe tbody tr th {\n",
                            "        vertical-align: top;\n",
                            "    }\n",
                            "\n",
                            "    .dataframe thead tr th {\n",
                            "        text-align: left;\n",
                            "    }\n",
                            "\n",
                            "    .dataframe thead tr:last-of-type th {\n",
                            "        text-align: right;\n",
                            "    }\n",
                            "</style>\n",
                            "<table border=\"1\" class=\"dataframe\">\n",
                            "  <thead>\n",
                            "    <tr>\n",
                            "      <th></th>\n",
                            "      <th colspan=\"3\" halign=\"left\">C</th>\n",
                            "      <th colspan=\"3\" halign=\"left\">D</th>\n",
                            "    </tr>\n",
                            "    <tr>\n",
                            "      <th></th>\n",
                            "      <th>sum</th>\n",
                            "      <th>mean</th>\n",
                            "      <th>std</th>\n",
                            "      <th>sum</th>\n",
                            "      <th>mean</th>\n",
                            "      <th>std</th>\n",
                            "    </tr>\n",
                            "    <tr>\n",
                            "      <th>A</th>\n",
                            "      <th></th>\n",
                            "      <th></th>\n",
                            "      <th></th>\n",
                            "      <th></th>\n",
                            "      <th></th>\n",
                            "      <th></th>\n",
                            "    </tr>\n",
                            "  </thead>\n",
                            "  <tbody>\n",
                            "    <tr>\n",
                            "      <th>bar</th>\n",
                            "      <td>3.240772</td>\n",
                            "      <td>1.080257</td>\n",
                            "      <td>0.504318</td>\n",
                            "      <td>-0.626437</td>\n",
                            "      <td>-0.208812</td>\n",
                            "      <td>1.159291</td>\n",
                            "    </tr>\n",
                            "    <tr>\n",
                            "      <th>foo</th>\n",
                            "      <td>-2.242987</td>\n",
                            "      <td>-0.448597</td>\n",
                            "      <td>0.804414</td>\n",
                            "      <td>-2.718491</td>\n",
                            "      <td>-0.543698</td>\n",
                            "      <td>1.119294</td>\n",
                            "    </tr>\n",
                            "  </tbody>\n",
                            "</table>\n",
                            "</div>"
                        ]
                    },
                    "metadata": {},
                    "execution_count": 10
                }
            ],
            "metadata": {}
        },
        {
            "cell_type": "markdown",
            "source": [
                "https://rfriend.tistory.com/403\n",
                "\n",
                "The transform method returns an object that is indexed the same (same size) as the one being grouped. The transform function must:\n",
                "\n",
                "Return a result that is either the same size as the group chunk or broadcastable to the size of the group chunk (e.g., a scalar, grouped.transform(lambda x: x.iloc[-1])).\n",
                "\n",
                "Operate column-by-column on the group chunk. The transform is applied to the first group chunk using chunk.apply.\n",
                "\n",
                "Not perform in-place operations on the group chunk. Group chunks should be treated as immutable, and changes to a group chunk may produce unexpected results. For example, when using fillna, inplace must be False (grouped.transform(lambda x: x.fillna(inplace=False))).\n",
                "\n",
                "(Optionally) operates on the entire group chunk. If this is supported, a fast path is used starting from the second chunk.\n",
                "\n",
                "Similar to Aggregations with User-Defined Functions, the resulting dtype will reflect that of the transformation function. If the results from different groups have different dtypes, then a common dtype will be determined in the same way as DataFrame construction."
            ],
            "metadata": {}
        },
        {
            "cell_type": "code",
            "execution_count": 12,
            "source": [
                "grouped.agg({\"C\": np.sum, \"D\": lambda x: np.std(x, ddof=1)})"
            ],
            "outputs": [
                {
                    "output_type": "execute_result",
                    "data": {
                        "text/plain": [
                            "            C         D\n",
                            "A                      \n",
                            "bar  3.240772  1.159291\n",
                            "foo -2.242987  1.119294"
                        ],
                        "text/html": [
                            "<div>\n",
                            "<style scoped>\n",
                            "    .dataframe tbody tr th:only-of-type {\n",
                            "        vertical-align: middle;\n",
                            "    }\n",
                            "\n",
                            "    .dataframe tbody tr th {\n",
                            "        vertical-align: top;\n",
                            "    }\n",
                            "\n",
                            "    .dataframe thead th {\n",
                            "        text-align: right;\n",
                            "    }\n",
                            "</style>\n",
                            "<table border=\"1\" class=\"dataframe\">\n",
                            "  <thead>\n",
                            "    <tr style=\"text-align: right;\">\n",
                            "      <th></th>\n",
                            "      <th>C</th>\n",
                            "      <th>D</th>\n",
                            "    </tr>\n",
                            "    <tr>\n",
                            "      <th>A</th>\n",
                            "      <th></th>\n",
                            "      <th></th>\n",
                            "    </tr>\n",
                            "  </thead>\n",
                            "  <tbody>\n",
                            "    <tr>\n",
                            "      <th>bar</th>\n",
                            "      <td>3.240772</td>\n",
                            "      <td>1.159291</td>\n",
                            "    </tr>\n",
                            "    <tr>\n",
                            "      <th>foo</th>\n",
                            "      <td>-2.242987</td>\n",
                            "      <td>1.119294</td>\n",
                            "    </tr>\n",
                            "  </tbody>\n",
                            "</table>\n",
                            "</div>"
                        ]
                    },
                    "metadata": {},
                    "execution_count": 12
                }
            ],
            "metadata": {}
        },
        {
            "cell_type": "markdown",
            "source": [],
            "metadata": {}
        },
        {
            "cell_type": "markdown",
            "source": [
                "The filter method returns a subset of the original object. Suppose we want to take only elements that belong to groups with a group sum greater than 2.\n"
            ],
            "metadata": {}
        },
        {
            "cell_type": "code",
            "execution_count": 15,
            "source": [
                "dff = pd.DataFrame({\"A\": np.arange(8), \"B\": list(\"aabbbbcc\")})\n",
                "dff"
            ],
            "outputs": [
                {
                    "output_type": "execute_result",
                    "data": {
                        "text/plain": [
                            "   A  B\n",
                            "0  0  a\n",
                            "1  1  a\n",
                            "2  2  b\n",
                            "3  3  b\n",
                            "4  4  b\n",
                            "5  5  b\n",
                            "6  6  c\n",
                            "7  7  c"
                        ],
                        "text/html": [
                            "<div>\n",
                            "<style scoped>\n",
                            "    .dataframe tbody tr th:only-of-type {\n",
                            "        vertical-align: middle;\n",
                            "    }\n",
                            "\n",
                            "    .dataframe tbody tr th {\n",
                            "        vertical-align: top;\n",
                            "    }\n",
                            "\n",
                            "    .dataframe thead th {\n",
                            "        text-align: right;\n",
                            "    }\n",
                            "</style>\n",
                            "<table border=\"1\" class=\"dataframe\">\n",
                            "  <thead>\n",
                            "    <tr style=\"text-align: right;\">\n",
                            "      <th></th>\n",
                            "      <th>A</th>\n",
                            "      <th>B</th>\n",
                            "    </tr>\n",
                            "  </thead>\n",
                            "  <tbody>\n",
                            "    <tr>\n",
                            "      <th>0</th>\n",
                            "      <td>0</td>\n",
                            "      <td>a</td>\n",
                            "    </tr>\n",
                            "    <tr>\n",
                            "      <th>1</th>\n",
                            "      <td>1</td>\n",
                            "      <td>a</td>\n",
                            "    </tr>\n",
                            "    <tr>\n",
                            "      <th>2</th>\n",
                            "      <td>2</td>\n",
                            "      <td>b</td>\n",
                            "    </tr>\n",
                            "    <tr>\n",
                            "      <th>3</th>\n",
                            "      <td>3</td>\n",
                            "      <td>b</td>\n",
                            "    </tr>\n",
                            "    <tr>\n",
                            "      <th>4</th>\n",
                            "      <td>4</td>\n",
                            "      <td>b</td>\n",
                            "    </tr>\n",
                            "    <tr>\n",
                            "      <th>5</th>\n",
                            "      <td>5</td>\n",
                            "      <td>b</td>\n",
                            "    </tr>\n",
                            "    <tr>\n",
                            "      <th>6</th>\n",
                            "      <td>6</td>\n",
                            "      <td>c</td>\n",
                            "    </tr>\n",
                            "    <tr>\n",
                            "      <th>7</th>\n",
                            "      <td>7</td>\n",
                            "      <td>c</td>\n",
                            "    </tr>\n",
                            "  </tbody>\n",
                            "</table>\n",
                            "</div>"
                        ]
                    },
                    "metadata": {},
                    "execution_count": 15
                }
            ],
            "metadata": {}
        },
        {
            "cell_type": "code",
            "execution_count": 16,
            "source": [
                "grouped = dff.groupby(\"B\")\n",
                "dff.groupby(\"B\").filter(lambda x: len(x) > 2)"
            ],
            "outputs": [
                {
                    "output_type": "execute_result",
                    "data": {
                        "text/plain": [
                            "   A  B\n",
                            "2  2  b\n",
                            "3  3  b\n",
                            "4  4  b\n",
                            "5  5  b"
                        ],
                        "text/html": [
                            "<div>\n",
                            "<style scoped>\n",
                            "    .dataframe tbody tr th:only-of-type {\n",
                            "        vertical-align: middle;\n",
                            "    }\n",
                            "\n",
                            "    .dataframe tbody tr th {\n",
                            "        vertical-align: top;\n",
                            "    }\n",
                            "\n",
                            "    .dataframe thead th {\n",
                            "        text-align: right;\n",
                            "    }\n",
                            "</style>\n",
                            "<table border=\"1\" class=\"dataframe\">\n",
                            "  <thead>\n",
                            "    <tr style=\"text-align: right;\">\n",
                            "      <th></th>\n",
                            "      <th>A</th>\n",
                            "      <th>B</th>\n",
                            "    </tr>\n",
                            "  </thead>\n",
                            "  <tbody>\n",
                            "    <tr>\n",
                            "      <th>2</th>\n",
                            "      <td>2</td>\n",
                            "      <td>b</td>\n",
                            "    </tr>\n",
                            "    <tr>\n",
                            "      <th>3</th>\n",
                            "      <td>3</td>\n",
                            "      <td>b</td>\n",
                            "    </tr>\n",
                            "    <tr>\n",
                            "      <th>4</th>\n",
                            "      <td>4</td>\n",
                            "      <td>b</td>\n",
                            "    </tr>\n",
                            "    <tr>\n",
                            "      <th>5</th>\n",
                            "      <td>5</td>\n",
                            "      <td>b</td>\n",
                            "    </tr>\n",
                            "  </tbody>\n",
                            "</table>\n",
                            "</div>"
                        ]
                    },
                    "metadata": {},
                    "execution_count": 16
                }
            ],
            "metadata": {}
        },
        {
            "cell_type": "code",
            "execution_count": 21,
            "source": [
                "grouped = df.groupby(\"A\")\n",
                "grouped[\"C\"].apply(lambda x: x.describe())"
            ],
            "outputs": [
                {
                    "output_type": "execute_result",
                    "data": {
                        "text/plain": [
                            "A         \n",
                            "bar  count    3.000000\n",
                            "     mean     1.080257\n",
                            "     std      0.504318\n",
                            "     min      0.504004\n",
                            "     25%      0.899844\n",
                            "     50%      1.295684\n",
                            "     75%      1.368384\n",
                            "     max      1.441084\n",
                            "foo  count    5.000000\n",
                            "     mean    -0.448597\n",
                            "     std      0.804414\n",
                            "     min     -1.329937\n",
                            "     25%     -1.173756\n",
                            "     50%     -0.418179\n",
                            "     75%      0.193194\n",
                            "     max      0.485690\n",
                            "Name: C, dtype: float64"
                        ]
                    },
                    "metadata": {},
                    "execution_count": 21
                }
            ],
            "metadata": {}
        }
    ],
    "metadata": {
        "orig_nbformat": 4,
        "language_info": {
            "name": "python",
            "version": "3.9.6",
            "mimetype": "text/x-python",
            "codemirror_mode": {
                "name": "ipython",
                "version": 3
            },
            "pygments_lexer": "ipython3",
            "nbconvert_exporter": "python",
            "file_extension": ".py"
        },
        "kernelspec": {
            "name": "python3",
            "display_name": "Python 3.9.6 64-bit"
        },
        "interpreter": {
            "hash": "aee8b7b246df8f9039afb4144a1f6fd8d2ca17a180786b69acc140d282b71a49"
        }
    },
    "nbformat": 4,
    "nbformat_minor": 2
}